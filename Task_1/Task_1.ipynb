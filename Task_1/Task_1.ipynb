{
 "cells": [
  {
   "cell_type": "markdown",
   "id": "a89aa7f1",
   "metadata": {},
   "source": [
    "### Нужно написать две программы:\n",
    "\n",
    "Нужно написать две программы: \n",
    "\n",
    "Первая генерирует бинарный файл (min 2Гб), состоящий из случайных 32-рязрядных беззнаковых целых чисел (big endian). \n",
    "\n",
    "Вторая считает сумму этих чисел (с применением длинной арифметики), находит минимальное и максимальное число.\n",
    "\n",
    "Реализуйте две версии - \n",
    "1. Простое последовательное чтение \n",
    "2. Многопоточная + memory-mapped files. \n",
    "\n",
    "Сравните время работы."
   ]
  },
  {
   "cell_type": "markdown",
   "id": "c7488385",
   "metadata": {},
   "source": [
    "Import библиотек"
   ]
  },
  {
   "cell_type": "code",
   "execution_count": 1,
   "id": "36bf02c1",
   "metadata": {},
   "outputs": [],
   "source": [
    "import numpy as np\n",
    "import time\n",
    "import mmap\n",
    "import os\n",
    "from concurrent.futures import ThreadPoolExecutor"
   ]
  },
  {
   "cell_type": "markdown",
   "id": "053cdcb5",
   "metadata": {},
   "source": [
    "# Генерация файла"
   ]
  },
  {
   "cell_type": "code",
   "execution_count": 2,
   "id": "d742b6bc",
   "metadata": {},
   "outputs": [],
   "source": [
    "def generate_numbers(file_name, size):\n",
    "    with open(file_name, 'wb') as f:\n",
    "        arr = np.random.randint(2**31, 2**32-1, size=size, dtype=np.dtype('uint32').newbyteorder('B')).byteswap()\n",
    "        f.write(arr.data)"
   ]
  },
  {
   "cell_type": "code",
   "execution_count": 3,
   "id": "79ac25a2",
   "metadata": {},
   "outputs": [
    {
     "name": "stderr",
     "output_type": "stream",
     "text": [
      "<ipython-input-2-7da200a6c0ea>:3: DeprecationWarning: Providing a dtype with a non-native byteorder is not supported. If you require platform-independent byteorder, call byteswap when required.\n",
      "In future version, providing byteorder will raise a ValueError\n",
      "  arr = np.random.randint(2**31, 2**32-1, size=size, dtype=np.dtype('uint32').newbyteorder('B')).byteswap()\n"
     ]
    }
   ],
   "source": [
    "generate_numbers('big_arr_32.txt', 550000000)"
   ]
  },
  {
   "cell_type": "markdown",
   "id": "2de8e1c8",
   "metadata": {},
   "source": [
    "# Простое последовательное чтение"
   ]
  },
  {
   "cell_type": "code",
   "execution_count": 4,
   "id": "dfa69f06",
   "metadata": {},
   "outputs": [],
   "source": [
    "def simple_solution(file_name):\n",
    "    start = time.time()\n",
    "    \n",
    "    with open(file_name, 'r+b') as f:\n",
    "        buffer = f.read()\n",
    "    \n",
    "    arr = np.frombuffer(buffer, dtype=np.dtype('uint32').newbyteorder('B'))\n",
    "    \n",
    "    arr_sum = 0\n",
    "    arr_min = arr[0]\n",
    "    arr_max = 0\n",
    "    \n",
    "    for num in arr:\n",
    "        if (num > arr_max):\n",
    "            arr_max = num\n",
    "        if (num < arr_min):\n",
    "            arr_min = num\n",
    "        arr_sum += num\n",
    "    \n",
    "    print(\"Время работы \", time.time() - start)\n",
    "    print(\"Сумма этих чисел \", arr_sum)\n",
    "    print(\"Минимальное число \", arr_min)\n",
    "    print(\"Максимальное число \", arr_max)"
   ]
  },
  {
   "cell_type": "code",
   "execution_count": 5,
   "id": "e1c643ea",
   "metadata": {},
   "outputs": [
    {
     "name": "stdout",
     "output_type": "stream",
     "text": [
      "Время работы  163.99773931503296\n",
      "Сумма этих чисел  1771667936325433604\n",
      "Минимальное число  2147483650\n",
      "Максимальное число  4294967293\n"
     ]
    }
   ],
   "source": [
    "simple_solution('big_arr_32.txt')"
   ]
  },
  {
   "cell_type": "markdown",
   "id": "7348f8f7",
   "metadata": {},
   "source": [
    "# Многопоточная + memory-mapped files"
   ]
  },
  {
   "cell_type": "code",
   "execution_count": 6,
   "id": "088789fd",
   "metadata": {},
   "outputs": [],
   "source": [
    "def searching(arr):\n",
    "    arr_sum = 0\n",
    "    arr_min = arr[0]\n",
    "    arr_max = 0\n",
    "    \n",
    "    for num in arr:\n",
    "        if (num > arr_max):\n",
    "            arr_max = num\n",
    "        if (num < arr_min):\n",
    "            arr_min = num\n",
    "        arr_sum += num\n",
    "    \n",
    "    return [arr_sum, arr_min, arr_max]"
   ]
  },
  {
   "cell_type": "code",
   "execution_count": 7,
   "id": "0347bf7d",
   "metadata": {},
   "outputs": [],
   "source": [
    "def parallel_solution(file_name):\n",
    "    max_workers = 2 * os.cpu_count()\n",
    "    chunk = os.path.getsize(file_name)//4//max_workers\n",
    "    start = time.time()\n",
    "    \n",
    "    with open(file_name, 'r+b') as f:\n",
    "        buffer = mmap.mmap(f.fileno(), 0, offset=0, access=mmap.ACCESS_WRITE)\n",
    "        arr = np.frombuffer(buffer, dtype=np.dtype('uint32').newbyteorder('B'))\n",
    "\n",
    "        with ThreadPoolExecutor(max_workers=max_workers) as executor:\n",
    "            arrs = [arr[i*chunk:(i+1)*chunk] for i in range(max_workers)]\n",
    "            future = [executor.submit(searching, ar) for ar in arrs]\n",
    "        \n",
    "        arr_sum = 0\n",
    "        arr_min = future[0].result()[1]\n",
    "        arr_max = 0\n",
    "            \n",
    "        for res in future:\n",
    "            if (res.result()[2] > arr_max):\n",
    "                arr_max = res.result()[2]\n",
    "            if (res.result()[1] < arr_min):\n",
    "                arr_min = res.result()[1]\n",
    "            arr_sum += res.result()[0]\n",
    "            \n",
    "    print(\"Время работы \", time.time() - start)\n",
    "    print(\"Сумма этих чисел \", arr_sum)\n",
    "    print(\"Минимальное число \", arr_min)\n",
    "    print(\"Максимальное число \", arr_max)"
   ]
  },
  {
   "cell_type": "code",
   "execution_count": 8,
   "id": "d963de85",
   "metadata": {},
   "outputs": [
    {
     "name": "stdout",
     "output_type": "stream",
     "text": [
      "Время работы  139.0843288898468\n",
      "Сумма этих чисел  1771667936325433604\n",
      "Минимальное число  2147483650\n",
      "Максимальное число  4294967293\n"
     ]
    }
   ],
   "source": [
    "parallel_solution('big_arr_32.txt')"
   ]
  }
 ],
 "metadata": {
  "kernelspec": {
   "display_name": "Python 3",
   "language": "python",
   "name": "python3"
  },
  "language_info": {
   "codemirror_mode": {
    "name": "ipython",
    "version": 3
   },
   "file_extension": ".py",
   "mimetype": "text/x-python",
   "name": "python",
   "nbconvert_exporter": "python",
   "pygments_lexer": "ipython3",
   "version": "3.8.6"
  }
 },
 "nbformat": 4,
 "nbformat_minor": 5
}
